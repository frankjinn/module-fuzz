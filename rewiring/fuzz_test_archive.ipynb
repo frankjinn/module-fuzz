{
 "cells": [
  {
   "cell_type": "code",
   "execution_count": null,
   "id": "2132fc8c",
   "metadata": {},
   "outputs": [],
   "source": [
    "random.seed(a=1)\n",
    "\n",
    "# User Defined Parameters\n",
    "# Guarantee that all internal inputs will be connected, but not all internal outputs\n",
    "input_size = 5\n",
    "assert(input_size < len(io_map['input']))\n",
    "\n",
    "\n",
    "# Input > Output is okay\n",
    "# Output > Input is not okay, make left over outputs to be external outputs\n",
    "if (len(io_map['input']) - input_size) < len(io_map['output']):\n",
    "    output_size = len(io_map['output']) - len(io_map['input']) - input_size\n",
    "else:\n",
    "    # If there are enough internal outputs, use a fixed number\n",
    "    output_size = 3\n",
    "    assert(output_size < len(io_map['output']))\n"
   ]
  },
  {
   "cell_type": "code",
   "execution_count": null,
   "id": "3720e88e",
   "metadata": {},
   "outputs": [],
   "source": [
    "# For inputs, we remove `input_size` number of input elements from sample space\n",
    "input_sample_space = len(io_map['input'])\n",
    "# Sample \"input_size\" number of inputs from the input sample space\n",
    "external_input_set = random.sample(range(input_sample_space), input_size)\n",
    "\n",
    "# For outputs, we remove `output_size` number of output elements from sample space\n",
    "output_sample_space = len(io_map['output'])\n",
    "# Sample \"output_size\" number of outputs from the output sample space\n",
    "external_output_set = random.sample(range(output_sample_space), output_size)"
   ]
  },
  {
   "cell_type": "code",
   "execution_count": null,
   "id": "150ac5c6",
   "metadata": {},
   "outputs": [
    {
     "name": "stdout",
     "output_type": "stream",
     "text": [
      "Input Sample Space:  370\n",
      "Output Sample Space:  453\n",
      "External Inputs:  [68, 291, 32, 130, 60]\n",
      "External Outputs:  [253, 389, 230, 241, 333, 194, 403, 107, 48, 249, 14, 427, 199, 221, 311, 390, 392, 1, 356, 228, 136, 369, 410, 117, 302, 52, 162, 15, 11, 13, 332, 277, 4, 451, 195, 351, 110, 216, 371, 270, 113, 391, 224, 283, 119, 176, 118, 346, 112, 235, 148, 213, 428, 284, 328, 51, 95, 322, 370, 440, 151, 61, 380, 170, 364, 256, 259, 424, 343, 97, 155, 145, 300, 255, 433, 258, 201, 301]\n"
     ]
    }
   ],
   "source": [
    "print(\"Input Sample Space: \", input_sample_space)\n",
    "print(\"Output Sample Space: \", output_sample_space)\n",
    "print(\"External Inputs: \", external_input_set)\n",
    "print(\"External Outputs: \", external_output_set)"
   ]
  },
  {
   "cell_type": "code",
   "execution_count": null,
   "id": "bf50efa1",
   "metadata": {},
   "outputs": [
    {
     "ename": "NameError",
     "evalue": "name 'input_sample_space' is not defined",
     "output_type": "error",
     "traceback": [
      "\u001b[0;31m---------------------------------------------------------------------------\u001b[0m\n",
      "\u001b[0;31mNameError\u001b[0m                                 Traceback (most recent call last)\n",
      "Cell \u001b[0;32mIn[54], line 1\u001b[0m\n",
      "\u001b[0;32m----> 1\u001b[0m internal_input_set \u001b[38;5;241m=\u001b[39m \u001b[38;5;28mset\u001b[39m(\u001b[38;5;28mrange\u001b[39m(\u001b[43minput_sample_space\u001b[49m))\n",
      "\u001b[1;32m      2\u001b[0m \u001b[38;5;28;01mfor\u001b[39;00m i \u001b[38;5;129;01min\u001b[39;00m external_input_set:\n",
      "\u001b[1;32m      3\u001b[0m     internal_input_set\u001b[38;5;241m.\u001b[39mremove(i)\n",
      "\n",
      "\u001b[0;31mNameError\u001b[0m: name 'input_sample_space' is not defined"
     ]
    }
   ],
   "source": [
    "internal_input_set = set(range(input_sample_space))\n",
    "for i in external_input_set:\n",
    "    internal_input_set.remove(i)\n",
    "\n",
    "internal_output_set = set(range(output_sample_space))\n",
    "for i in external_output_set:\n",
    "    internal_output_set.remove(i)\n",
    "\n",
    "connections = []\n",
    "\n",
    "# Use outputs at least once, but if there are more internal inputs than outputs, then sample randomly.\n",
    "internal_output_list = list(internal_output_set)\n",
    "random.shuffle(internal_output_list)\n",
    "\n",
    "if len(internal_input_set) > len(internal_output_set):\n",
    "    connections.append(internal_output_list)\n",
    "    connections[0].extend(random.choices(internal_output_list, k=(len(internal_input_set) - len(internal_output_set))))\n",
    "elif len(internal_input_set) < len(internal_output_set):\n",
    "    connections.append(internal_output_list[:len(internal_input_set)])\n",
    "else:\n",
    "    connections.append(internal_output_list)\n",
    "\n",
    "internal_input_list = list(internal_input_set)\n",
    "random.shuffle(internal_input_list)\n",
    "connections.append(internal_input_list) # Inputs can only be used once."
   ]
  },
  {
   "cell_type": "code",
   "execution_count": null,
   "id": "e45b70ac",
   "metadata": {},
   "outputs": [
    {
     "name": "stdout",
     "output_type": "stream",
     "text": [
      "365\n",
      "365\n"
     ]
    }
   ],
   "source": [
    "print(len(connections[0]))\n",
    "print(len(connections[1]))"
   ]
  },
  {
   "cell_type": "code",
   "execution_count": null,
   "id": "923199d3",
   "metadata": {},
   "outputs": [],
   "source": [
    "# Assertions\n",
    "for i in external_input_set:\n",
    "    assert not (i in connections[1]) # Check that external inputs are not connected to internal outputs\n",
    "\n",
    "for i in external_output_set:\n",
    "    assert not (i in connections[0])  # Check that external outputs are not connected to internal inputs\n",
    "\n",
    "assert(set(connections[1]) == internal_input_set)  # Check that all internal inputs are used and only once\n",
    "\n",
    "assert(len(connections[0]) == len(connections[1])) # Input and output should be paired"
   ]
  },
  {
   "cell_type": "code",
   "execution_count": null,
   "id": "562fb1a1",
   "metadata": {},
   "outputs": [
    {
     "name": "stdout",
     "output_type": "stream",
     "text": [
      "External Inputs:  [68, 291, 32, 130, 60]\n",
      "External Outputs:  [253, 389, 230, 241, 333, 194, 403, 107, 48, 249, 14, 427, 199, 221, 311, 390, 392, 1, 356, 228, 136, 369, 410, 117, 302, 52, 162, 15, 11, 13, 332, 277, 4, 451, 195, 351, 110, 216, 371, 270, 113, 391, 224, 283, 119, 176, 118, 346, 112, 235, 148, 213, 428, 284, 328, 51, 95, 322, 370, 440, 151, 61, 380, 170, 364, 256, 259, 424, 343, 97, 155, 145, 300, 255, 433, 258, 201, 301]\n",
      "Internal Outputs:  [286, 196, 154, 296, 94, 141, 436, 367, 54, 448, 420, 69, 73, 215, 348, 388, 382, 375, 101, 237, 56, 37, 33, 166, 362, 227, 290, 373, 127, 182, 288, 272, 72, 381, 452, 77, 29, 308, 181, 423, 437, 87, 105, 418, 422, 273, 334, 438, 190, 45, 59, 372, 142, 276, 444, 44, 159, 122, 394, 143, 90, 429, 131, 385, 163, 185, 5, 359, 81, 399, 261, 363, 71, 384, 132, 114, 79, 446, 238, 275, 108, 421, 326, 280, 103, 26, 63, 406, 36, 187, 210, 167, 265, 17, 358, 242, 139, 2, 413, 7, 236, 19, 336, 320, 140, 347, 130, 303, 416, 157, 231, 202, 383, 80, 83, 229, 57, 325, 209, 393, 361, 397, 179, 247, 150, 116, 218, 232, 257, 123, 298, 271, 212, 175, 146, 180, 84, 35, 415, 366, 354, 75, 285, 335, 268, 189, 341, 349, 317, 192, 27, 307, 352, 70, 292, 449, 160, 250, 165, 111, 30, 78, 262, 267, 329, 40, 405, 205, 439, 248, 404, 82, 377, 183, 432, 305, 342, 293, 85, 115, 200, 32, 147, 58, 441, 129, 274, 172, 62, 31, 445, 60, 314, 240, 419, 387, 374, 50, 360, 171, 312, 178, 426, 344, 395, 39, 74, 169, 125, 46, 225, 264, 89, 25, 24, 88, 431, 64, 38, 86, 222, 425, 321, 287, 197, 92, 244, 173, 203, 304, 386, 193, 158, 323, 134, 442, 368, 243, 188, 378, 254, 327, 128, 204, 396, 400, 133, 47, 450, 217, 12, 43, 120, 6, 67, 16, 266, 126, 152, 434, 156, 109, 260, 206, 234, 186, 18, 68, 291, 306, 191, 279, 177, 164, 414, 324, 353, 91, 96, 41, 174, 402, 106, 66, 398, 149, 168, 9, 278, 10, 49, 42, 22, 153, 339, 55, 104, 338, 102, 137, 20, 281, 198, 408, 330, 0, 208, 447, 214, 297, 251, 310, 409, 340, 350, 219, 295, 34, 263, 124, 345, 318, 76, 315, 233, 3, 376, 407, 161, 282, 211, 355, 207, 316, 246, 138, 443, 331, 121, 8, 135, 309, 98, 99, 401, 430, 357, 365, 379, 184, 28, 289, 21, 299, 223, 239, 319, 93, 65, 313, 411, 269, 53, 226, 417]\n",
      "Internal Inputs:  [102, 208, 312, 266, 319, 255, 235, 268, 356, 328, 80, 158, 276, 18, 59, 246, 124, 310, 29, 355, 111, 341, 226, 363, 14, 368, 275, 340, 26, 339, 218, 242, 42, 200, 15, 57, 148, 250, 230, 303, 62, 41, 247, 253, 76, 229, 296, 315, 237, 123, 134, 213, 120, 141, 4, 349, 271, 48, 307, 119, 17, 137, 234, 216, 336, 184, 333, 223, 288, 369, 320, 278, 34, 181, 193, 309, 22, 174, 51, 189, 205, 2, 331, 222, 212, 126, 248, 294, 8, 295, 106, 358, 316, 300, 77, 50, 302, 168, 214, 47, 203, 70, 88, 251, 58, 337, 306, 357, 146, 186, 131, 221, 121, 338, 61, 231, 233, 96, 109, 97, 238, 95, 352, 272, 227, 155, 198, 162, 311, 196, 28, 282, 89, 105, 361, 362, 322, 325, 289, 0, 85, 191, 169, 151, 114, 175, 98, 323, 19, 35, 199, 170, 299, 254, 201, 6, 27, 180, 182, 243, 150, 54, 308, 110, 128, 335, 239, 263, 117, 258, 153, 259, 72, 360, 142, 38, 342, 45, 53, 69, 64, 159, 326, 7, 318, 365, 211, 139, 49, 1, 147, 195, 99, 262, 74, 78, 173, 317, 270, 140, 347, 280, 30, 348, 127, 269, 327, 277, 86, 240, 104, 113, 298, 100, 63, 116, 20, 183, 179, 172, 219, 161, 202, 36, 21, 273, 71, 25, 284, 67, 210, 23, 138, 10, 190, 143, 43, 220, 135, 101, 92, 350, 364, 103, 178, 329, 13, 204, 261, 188, 149, 245, 56, 112, 304, 82, 292, 197, 65, 44, 241, 87, 194, 334, 156, 163, 107, 290, 84, 192, 265, 37, 367, 115, 144, 176, 215, 286, 249, 257, 164, 125, 118, 321, 359, 166, 274, 93, 3, 346, 122, 46, 354, 209, 293, 207, 145, 314, 305, 344, 73, 301, 185, 31, 9, 297, 217, 12, 252, 136, 90, 177, 206, 366, 236, 332, 228, 281, 132, 285, 224, 232, 33, 133, 129, 24, 83, 279, 225, 157, 353, 343, 287, 324, 165, 16, 283, 351, 108, 66, 154, 313, 267, 55, 160, 167, 75, 79, 94, 91, 345, 264, 40, 171, 260, 52, 81, 244, 256, 187, 152, 5, 330, 11, 39]\n"
     ]
    }
   ],
   "source": [
    "print(\"External Inputs: \", external_input_set)\n",
    "print(\"External Outputs: \", external_output_set)\n",
    "\n",
    "print(\"Internal Outputs: \", connections[0])\n",
    "print(\"Internal Inputs: \", connections[1])"
   ]
  },
  {
   "cell_type": "code",
   "execution_count": null,
   "id": "efd48b84",
   "metadata": {},
   "outputs": [
    {
     "name": "stdout",
     "output_type": "stream",
     "text": [
      "Named Representations\n",
      "['const_partselect_wrapper_input_13', 'enum_wrapper_input_3', 'const_nested_wrapper_input_8', 'const_arith_wrapper_input_0', 'const_partselect_wrapper_input_5']\n",
      "['constant_wrapper_output_20', 'partselect_wrapper_output_7', 'shift_wrapper_output_13', 'constant_wrapper_output_8', 'bitwise_logic_wrapper_output_20', 'concat_repl_wrapper_output_16', 'array_wrapper_output_11', 'const_arith_wrapper_output_10', 'const_shift_wrapper_output_18', 'constant_wrapper_output_16', 'const_nested_wrapper_output_6', 'struct_wrapper_output_3', 'concat_repl_wrapper_output_21', 'shift_wrapper_output_4', 'constant_wrapper_output_78', 'partselect_wrapper_output_8', 'array_wrapper_output_0', 'const_compare_wrapper_output_1', 'cast_wrapper_output_9', 'shift_wrapper_output_11', 'const_arith_wrapper_output_39', 'concat_repl_wrapper_output_10', 'union_wrapper_output_2', 'const_arith_wrapper_output_20', 'constant_wrapper_output_69', 'const_shift_wrapper_output_22', 'arithmetic_reduce_wrapper_output_3', 'const_nested_wrapper_output_7', 'const_nested_wrapper_output_3', 'const_nested_wrapper_output_5', 'bitwise_logic_wrapper_output_19', 'constant_wrapper_output_44', 'const_compare_wrapper_output_4', 'shift_wrapper_output_14', 'concat_repl_wrapper_output_17', 'cast_wrapper_output_4', 'const_arith_wrapper_output_13', 'bitwise_reduce_wrapper_output_2', 'concat_repl_wrapper_output_12', 'constant_wrapper_output_37', 'const_arith_wrapper_output_16', 'arith_wrapper_output_0', 'shift_wrapper_output_7', 'constant_wrapper_output_50', 'const_arith_wrapper_output_22', 'select_wrapper_output_7', 'const_arith_wrapper_output_21', 'logic_wrapper_output_5', 'const_arith_wrapper_output_15', 'constant_wrapper_output_2', 'const_concat_repl_wrapper_output_11', 'arithmetic_wrapper_output_0', 'struct_wrapper_output_4', 'constant_wrapper_output_51', 'bitwise_logic_wrapper_output_15', 'const_shift_wrapper_output_21', 'const_conditional_wrapper_output_22', 'bitwise_logic_wrapper_output_9', 'concat_repl_wrapper_output_11', 'shift_wrapper_output_3', 'const_concat_repl_wrapper_output_14', 'const_logic_wrapper_output_7', 'enum_wrapper_output_3', 'select_wrapper_output_1', 'concat_repl_wrapper_output_5', 'constant_wrapper_output_23', 'constant_wrapper_output_26', 'struct_wrapper_output_0', 'logic_wrapper_output_2', 'const_arith_wrapper_output_0', 'const_concat_repl_wrapper_output_18', 'const_concat_repl_wrapper_output_8', 'constant_wrapper_output_67', 'constant_wrapper_output_22', 'struct_wrapper_output_9', 'constant_wrapper_output_25', 'reduce_case_wrapper_output_1', 'constant_wrapper_output_68']\n"
     ]
    }
   ],
   "source": [
    "print(\"Named Representations\")\n",
    "print([io_map['input'][i] for i in external_input_set])\n",
    "print([io_map['output'][i] for i in external_output_set])"
   ]
  }
 ],
 "metadata": {
  "language_info": {
   "name": "python"
  }
 },
 "nbformat": 4,
 "nbformat_minor": 5
}
