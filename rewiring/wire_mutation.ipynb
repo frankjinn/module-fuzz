{
 "cells": [
  {
   "cell_type": "code",
   "execution_count": 1,
   "id": "aa57c986",
   "metadata": {},
   "outputs": [],
   "source": [
    "import IO_map\n",
    "import random\n",
    "import re\n",
    "import generate_verilog as gv"
   ]
  },
  {
   "cell_type": "code",
   "execution_count": 2,
   "id": "bc8e8039",
   "metadata": {},
   "outputs": [],
   "source": [
    "io_map = IO_map.create_IO_map(\"/module-fuzz/test_library/flattened_IO\")"
   ]
  },
  {
   "cell_type": "code",
   "execution_count": 3,
   "id": "dc5539ad",
   "metadata": {},
   "outputs": [
    {
     "data": {
      "text/plain": [
       "{'bit_input': {0: 'adder_wrapper_input_0',\n",
       "  1: 'adder_wrapper_input_1',\n",
       "  2: 'adder_wrapper_input_2',\n",
       "  3: 'adder_wrapper_input_3',\n",
       "  4: 'multiplier_wrapper_input_0',\n",
       "  5: 'multiplier_wrapper_input_1',\n",
       "  6: 'multiplier_wrapper_input_2',\n",
       "  7: 'multiplier_wrapper_input_3'},\n",
       " 'bit_output': {0: 'adder_wrapper_output_0',\n",
       "  1: 'adder_wrapper_output_1',\n",
       "  2: 'adder_wrapper_output_2',\n",
       "  3: 'multiplier_wrapper_output_0',\n",
       "  4: 'multiplier_wrapper_output_1',\n",
       "  5: 'multiplier_wrapper_output_2',\n",
       "  6: 'multiplier_wrapper_output_3',\n",
       "  7: 'multiplier_wrapper_output_4'},\n",
       " 'mod_input': {0: 'adder_wrapper',\n",
       "  1: 'adder_wrapper',\n",
       "  2: 'adder_wrapper',\n",
       "  3: 'adder_wrapper',\n",
       "  4: 'multiplier_wrapper',\n",
       "  5: 'multiplier_wrapper',\n",
       "  6: 'multiplier_wrapper',\n",
       "  7: 'multiplier_wrapper'},\n",
       " 'mod_output': {0: 'adder_wrapper',\n",
       "  1: 'adder_wrapper',\n",
       "  2: 'adder_wrapper',\n",
       "  3: 'multiplier_wrapper',\n",
       "  4: 'multiplier_wrapper',\n",
       "  5: 'multiplier_wrapper',\n",
       "  6: 'multiplier_wrapper',\n",
       "  7: 'multiplier_wrapper'},\n",
       " 'mod_list': ['adder_wrapper', 'multiplier_wrapper']}"
      ]
     },
     "execution_count": 3,
     "metadata": {},
     "output_type": "execute_result"
    }
   ],
   "source": [
    "io_map"
   ]
  },
  {
   "cell_type": "code",
   "execution_count": 4,
   "id": "e0f0d7f0",
   "metadata": {},
   "outputs": [],
   "source": [
    "# Start with flat layout\n",
    "external_inputs = io_map['bit_input']\n",
    "external_outputs = io_map['bit_output']\n",
    "internal_inputs = []\n",
    "internal_outputs = []"
   ]
  },
  {
   "cell_type": "code",
   "execution_count": 6,
   "id": "5bc57446",
   "metadata": {},
   "outputs": [
    {
     "name": "stdout",
     "output_type": "stream",
     "text": [
      "`include \"adder_wrapper.sv\"\n",
      "`include \"multiplier_wrapper.sv\"\n",
      "\n",
      "// Automatically generated top module\n",
      "module top (\n",
      "    input  wire [7:0] in_flat,\n",
      "    output wire [7:0] out_flat\n",
      ");\n",
      "\n",
      "  // Per-module flattened I/O buses\n",
      "  wire [3:0] adder_wrapper_in_flat;\n",
      "  wire [2:0] adder_wrapper_out_flat;\n",
      "  wire [3:0] multiplier_wrapper_in_flat;\n",
      "  wire [4:0] multiplier_wrapper_out_flat;\n",
      "\n",
      "  // Drive module inputs from top-level in_flat\n",
      "  assign adder_wrapper_in_flat[0] = in_flat[0];\n",
      "  assign adder_wrapper_in_flat[1] = in_flat[1];\n",
      "  assign adder_wrapper_in_flat[2] = in_flat[2];\n",
      "  assign adder_wrapper_in_flat[3] = in_flat[3];\n",
      "  assign multiplier_wrapper_in_flat[0] = in_flat[4];\n",
      "  assign multiplier_wrapper_in_flat[1] = in_flat[5];\n",
      "  assign multiplier_wrapper_in_flat[2] = in_flat[6];\n",
      "  assign multiplier_wrapper_in_flat[3] = in_flat[7];\n",
      "\n",
      "  // Drive top-level out_flat from module outputs\n",
      "  assign out_flat[0] = adder_wrapper_out_flat[0];\n",
      "  assign out_flat[1] = adder_wrapper_out_flat[1];\n",
      "  assign out_flat[2] = adder_wrapper_out_flat[2];\n",
      "  assign out_flat[3] = multiplier_wrapper_out_flat[0];\n",
      "  assign out_flat[4] = multiplier_wrapper_out_flat[1];\n",
      "  assign out_flat[5] = multiplier_wrapper_out_flat[2];\n",
      "  assign out_flat[6] = multiplier_wrapper_out_flat[3];\n",
      "  assign out_flat[7] = multiplier_wrapper_out_flat[4];\n",
      "\n",
      "  // Instantiate each module's wrapper\n",
      "  adder_wrapper u_adder_wrapper (\n",
      "    .in_flat  (adder_wrapper_in_flat),\n",
      "    .out_flat (adder_wrapper_out_flat)\n",
      "  );\n",
      "  multiplier_wrapper u_multiplier_wrapper (\n",
      "    .in_flat  (multiplier_wrapper_in_flat),\n",
      "    .out_flat (multiplier_wrapper_out_flat)\n",
      "  );\n",
      "\n",
      "endmodule\n"
     ]
    }
   ],
   "source": [
    "print(gv.generate_top_module(io_map, [internal_outputs, internal_inputs], external_inputs, external_outputs))"
   ]
  },
  {
   "cell_type": "code",
   "execution_count": null,
   "id": "5c9ee66f",
   "metadata": {},
   "outputs": [],
   "source": [
    "import IO_map\n",
    "import random\n",
    "import re\n",
    "import generate_verilog as gv\n",
    "class fuzz_run:\n",
    "    def __init__ (flattened_lib_path):\n",
    "        self.flattened_lib_path = flattened_lib_path\n",
    "        self.io_map = IO_map.create_IO_map(flattened_lib_path)\n",
    "        self.external_inputs = io_map['bit_input']\n",
    "        self.external_outputs = io_map['bit_output']\n",
    "        self.internal_inputs = []\n",
    "        self.internal_outputs = []\n",
    "        self.top_module = gv.generate_top_module(io_map, [internal_outputs, internal_inputs], external_inputs, external_outputs)\n",
    "    "
   ]
  },
  {
   "cell_type": "code",
   "execution_count": null,
   "id": "626a6213",
   "metadata": {},
   "outputs": [],
   "source": [
    "test_fuzz = fuzz_run(\"/module-fuzz/test_library/flattened_IO\")"
   ]
  }
 ],
 "metadata": {
  "kernelspec": {
   "display_name": "Python 3",
   "language": "python",
   "name": "python3"
  },
  "language_info": {
   "codemirror_mode": {
    "name": "ipython",
    "version": 3
   },
   "file_extension": ".py",
   "mimetype": "text/x-python",
   "name": "python",
   "nbconvert_exporter": "python",
   "pygments_lexer": "ipython3",
   "version": "3.10.12"
  }
 },
 "nbformat": 4,
 "nbformat_minor": 5
}
